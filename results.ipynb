{
 "cells": [
  {
   "attachments": {},
   "cell_type": "markdown",
   "metadata": {},
   "source": [
    "# Results"
   ]
  },
  {
   "cell_type": "code",
   "execution_count": 15,
   "metadata": {},
   "outputs": [
    {
     "name": "stdout",
     "output_type": "stream",
     "text": [
      "Using device: cpu\n"
     ]
    }
   ],
   "source": [
    "import warnings\n",
    "\n",
    "import torch\n",
    "from torch import nn\n",
    "from torch.nn.utils.rnn import pad_sequence\n",
    "\n",
    "from src.data.dataset import build_vocabulary, tokenize, tokens_to_indices\n",
    "from src.models.net import NLIModel\n",
    "from src.models.classifiers import Classifier\n",
    "from src.models.encoders import BiLSTMEncoder\n",
    "\n",
    "warnings.filterwarnings(\"ignore\")\n",
    "device = torch.device('cuda' if torch.cuda.is_available() else 'cpu')\n",
    "print(f\"Using device: {device}\")"
   ]
  },
  {
   "attachments": {},
   "cell_type": "markdown",
   "metadata": {},
   "source": [
    "## Setup"
   ]
  },
  {
   "attachments": {},
   "cell_type": "markdown",
   "metadata": {},
   "source": [
    "First we load the vocabulary and the models."
   ]
  },
  {
   "cell_type": "code",
   "execution_count": 7,
   "metadata": {},
   "outputs": [],
   "source": [
    "token_to_idx, word_embeddings = build_vocabulary(split=\"train\", glove_version=\"840B\", word_embedding_dim=300)"
   ]
  },
  {
   "cell_type": "code",
   "execution_count": 12,
   "metadata": {},
   "outputs": [],
   "source": [
    "encoder = BiLSTMEncoder(\n",
    "    word_embeddings=word_embeddings,\n",
    "    input_dim=300,\n",
    "    output_dim=2048,\n",
    "    max_pooling=True,\n",
    ")\n",
    "classifier = Classifier(input_dim=4096, num_classes=3)\n",
    "model = NLIModel(encoder, classifier).to(device)\n",
    "\n",
    "model.load_state_dict(torch.load(\"models/bilstm-max/best_model.pt\", map_location=device))\n",
    "model = model.to(device)"
   ]
  },
  {
   "attachments": {},
   "cell_type": "markdown",
   "metadata": {},
   "source": [
    "We create a prediction function that takes a sentence and returns the predicted label."
   ]
  },
  {
   "cell_type": "code",
   "execution_count": 18,
   "metadata": {},
   "outputs": [],
   "source": [
    "def predict(\n",
    "    model: nn.Module,\n",
    "    token_to_idx: dict[str, int],\n",
    "    device: torch.device,\n",
    "    premise: str,\n",
    "    hypothesis: str,\n",
    ") -> str:\n",
    "    \"\"\"Predict the entailment label of the given premise and hypothesis.\n",
    "\n",
    "    Args:\n",
    "        model (nn.Module): The model (encoder + classifier).\n",
    "        token_to_idx (dict[str, int]): The token to index mapping.\n",
    "        device (torch.device): The device to use.\n",
    "        premise (str): The premise.\n",
    "        hypothesis (str): The hypothesis.\n",
    "\n",
    "    Returns:\n",
    "        str: The predicted entailment label.\n",
    "    \"\"\"\n",
    "    # Set the model to evaluation mode\n",
    "    model.eval()\n",
    "    \n",
    "    id_to_label = {\n",
    "            0: \"entailment\",\n",
    "            1: \"neutral\",\n",
    "            2: \"contradiction\",\n",
    "        }\n",
    "\n",
    "    # Disable gradient computation\n",
    "    with torch.no_grad():\n",
    "        # Tokenize the premise and hypothesis\n",
    "        premise_tokens = tokenize(premise)\n",
    "        hypothesis_tokens = tokenize(hypothesis)\n",
    "        \n",
    "        # Convert tokens to indices\n",
    "        premise_indices = tokens_to_indices(premise_tokens, token_to_idx)\n",
    "        hypothesis_indices = tokens_to_indices(hypothesis_tokens, token_to_idx)\n",
    "\n",
    "        # Convert indices to tensors and wrap them in a list\n",
    "        premise_indices = [torch.tensor(premise_indices, dtype=torch.long)]\n",
    "        hypothesis_indices = [torch.tensor(hypothesis_indices, dtype=torch.long)]\n",
    "\n",
    "        # Pad sequences and compute lengths\n",
    "        padded_premises = pad_sequence(premise_indices, batch_first=True, padding_value=1)\n",
    "        premise_lengths = torch.tensor([len(premise_indices[0])], dtype=torch.long)\n",
    "        padded_hypotheses = pad_sequence(hypothesis_indices, batch_first=True, padding_value=1)\n",
    "        hypothesis_lengths = torch.tensor([len(hypothesis_indices[0])], dtype=torch.long)\n",
    "\n",
    "        # Move the batch to the device\n",
    "        padded_premises = padded_premises.to(device)\n",
    "        premise_lengths = premise_lengths.to(device)\n",
    "        padded_hypotheses = padded_hypotheses.to(device)\n",
    "        hypothesis_lengths = hypothesis_lengths.to(device)\n",
    "\n",
    "        # Compute the logits\n",
    "        logits = model(padded_premises, premise_lengths, padded_hypotheses, hypothesis_lengths)\n",
    "\n",
    "        # Get the predictions\n",
    "        predictions = torch.argmax(logits, dim=-1)\n",
    "        \n",
    "    return id_to_label[int(predictions.item())]\n"
   ]
  },
  {
   "attachments": {},
   "cell_type": "markdown",
   "metadata": {},
   "source": [
    "## Predictions\n",
    "\n",
    "Predictions using the BiLSTM model with max pooling."
   ]
  },
  {
   "cell_type": "code",
   "execution_count": 19,
   "metadata": {},
   "outputs": [
    {
     "name": "stdout",
     "output_type": "stream",
     "text": [
      "Label: contradiction\n"
     ]
    }
   ],
   "source": [
    "premise_1 = \"Two men sitting in the sun\"\n",
    "hypothesis_1 = \"Nobody is sitting in the shade\"\n",
    "label_1 = predict(model, token_to_idx, device, premise_1, hypothesis_1)\n",
    "print(f\"Label: {label_1}\")"
   ]
  },
  {
   "cell_type": "code",
   "execution_count": 21,
   "metadata": {},
   "outputs": [
    {
     "name": "stdout",
     "output_type": "stream",
     "text": [
      "Label: contradiction\n"
     ]
    }
   ],
   "source": [
    "premise_1 = \"A man is walking a dog\"\n",
    "hypothesis_2 = \"No cat is outside\"\n",
    "label_2 = predict(model, token_to_idx, device, premise_1, hypothesis_2)\n",
    "print(f\"Label: {label_2}\")"
   ]
  },
  {
   "attachments": {},
   "cell_type": "markdown",
   "metadata": {},
   "source": [
    "A possible reason for the failure is the presence of negations in the hypotheses, which might lead the model to focus on the opposite aspect between the premise and the hypothesis. The models may be more sensitive to negation words like \"nobody\" and \"no\" in the hypothesis, causing it to perceive a stronger contradiction than exists. Additionally, the model might struggle with understanding the relationships between different entities in the sentences, such as \"men\" and \"nobody,\" or \"dog\" and \"cat.\" This difficulty in capturing the semantic relationships between entities could lead the model to assess the relationship between the premise and the hypothesis incorrectly. "
   ]
  },
  {
   "attachments": {},
   "cell_type": "markdown",
   "metadata": {},
   "source": [
    "## Results\n",
    "\n",
    "The following table shows the results of the models on the SNLI dev and test sets, and the micro and macro averaged results on the SentEval tasks.\n",
    "\n",
    "| **Model** | **SNLI Dev** | **SNLI Test** | **Micro** | **Macro** |\n",
    "|---|---|---|---|---|\n",
    "| Baseline | 0.671 | 0.672 | 80.611 | 79.123 |\n",
    "| LSTM | 0.805 | 0.799 | 76.843 | 76.280 |\n",
    "| BiLSTM | 0.795 | 0.796 | 80.516 | 80.019 |\n",
    "| BiLSTM (max) | 0.836 | 0.836 | 82.556 | 81.764 |"
   ]
  },
  {
   "cell_type": "code",
   "execution_count": null,
   "metadata": {},
   "outputs": [],
   "source": []
  }
 ],
 "metadata": {
  "kernelspec": {
   "display_name": "atcs",
   "language": "python",
   "name": "python3"
  },
  "language_info": {
   "codemirror_mode": {
    "name": "ipython",
    "version": 3
   },
   "file_extension": ".py",
   "mimetype": "text/x-python",
   "name": "python",
   "nbconvert_exporter": "python",
   "pygments_lexer": "ipython3",
   "version": "3.11.3"
  },
  "orig_nbformat": 4
 },
 "nbformat": 4,
 "nbformat_minor": 2
}
